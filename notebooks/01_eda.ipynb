{
 "cells": [
  {
   "cell_type": "code",
   "execution_count": 35,
   "id": "6349479e",
   "metadata": {},
   "outputs": [
    {
     "name": "stdout",
     "output_type": "stream",
     "text": [
      "Pandas: 2.3.1\n",
      "Numpy : 2.2.4\n"
     ]
    }
   ],
   "source": [
    "import os\n",
    "import json\n",
    "import math\n",
    "import itertools\n",
    "from collections import Counter, defaultdict\n",
    "\n",
    "import pandas as pd\n",
    "import numpy as np\n",
    "import matplotlib.pyplot as plt\n",
    "\n",
    "pd.set_option(\"display.max_colwidth\", 160)\n",
    "pd.set_option(\"display.max_rows\", 100)\n",
    "\n",
    "DATA_PATH = \"../data/challenge_data-18-ago.csv\"  \n",
    "FIG_DIR = \"../reports/figures\"\n",
    "os.makedirs(FIG_DIR, exist_ok=True)\n",
    "\n",
    "print('Pandas:', pd.__version__)\n",
    "print('Numpy :', np.__version__)"
   ]
  },
  {
   "cell_type": "code",
   "execution_count": null,
   "id": "7e6b3583",
   "metadata": {},
   "outputs": [
    {
     "data": {
      "text/html": [
       "<div>\n",
       "<style scoped>\n",
       "    .dataframe tbody tr th:only-of-type {\n",
       "        vertical-align: middle;\n",
       "    }\n",
       "\n",
       "    .dataframe tbody tr th {\n",
       "        vertical-align: top;\n",
       "    }\n",
       "\n",
       "    .dataframe thead th {\n",
       "        text-align: right;\n",
       "    }\n",
       "</style>\n",
       "<table border=\"1\" class=\"dataframe\">\n",
       "  <thead>\n",
       "    <tr style=\"text-align: right;\">\n",
       "      <th></th>\n",
       "      <th>title</th>\n",
       "      <th>abstract</th>\n",
       "      <th>group</th>\n",
       "    </tr>\n",
       "  </thead>\n",
       "  <tbody>\n",
       "    <tr>\n",
       "      <th>0</th>\n",
       "      <td>Adrenoleukodystrophy: survey of 303 cases: biochemistry, diagnosis, and therapy.</td>\n",
       "      <td>Adrenoleukodystrophy ( ALD ) is a genetically determined disorder associated with progressive central demyelination and adrenal cortical insufficiency . All...</td>\n",
       "      <td>neurological|hepatorenal</td>\n",
       "    </tr>\n",
       "    <tr>\n",
       "      <th>1</th>\n",
       "      <td>endoscopy reveals ventricular tachycardia secrets</td>\n",
       "      <td>Research question: How does metformin affect cancer through pituitary adenoma mechanisms? Methods: randomized controlled study with 53 elderly patients, ass...</td>\n",
       "      <td>neurological</td>\n",
       "    </tr>\n",
       "    <tr>\n",
       "      <th>2</th>\n",
       "      <td>dementia and cholecystitis: organ interplay</td>\n",
       "      <td>Purpose: This randomized controlled study examined statins for diabetes in adult population. The investigation included analysis of bun, cholelithiasis, and...</td>\n",
       "      <td>hepatorenal</td>\n",
       "    </tr>\n",
       "    <tr>\n",
       "      <th>3</th>\n",
       "      <td>The interpeduncular nucleus regulates nicotine's effects on free-field activity.</td>\n",
       "      <td>Partial lesions were made with kainic acid in the interpeduncular nucleus of the ventral midbrain of the rat. Compared with sham-operated controls, lesions ...</td>\n",
       "      <td>neurological</td>\n",
       "    </tr>\n",
       "    <tr>\n",
       "      <th>4</th>\n",
       "      <td>guillain-barre syndrome pathways in leukemia</td>\n",
       "      <td>Hypothesis: statins improves stroke outcomes via migraine pathways. Methods: cross-sectional trial with 285 adult population, measuring astrocytoma and pals...</td>\n",
       "      <td>neurological</td>\n",
       "    </tr>\n",
       "  </tbody>\n",
       "</table>\n",
       "</div>"
      ],
      "text/plain": [
       "                                                                              title  \\\n",
       "0  Adrenoleukodystrophy: survey of 303 cases: biochemistry, diagnosis, and therapy.   \n",
       "1                                 endoscopy reveals ventricular tachycardia secrets   \n",
       "2                                       dementia and cholecystitis: organ interplay   \n",
       "3  The interpeduncular nucleus regulates nicotine's effects on free-field activity.   \n",
       "4                                      guillain-barre syndrome pathways in leukemia   \n",
       "\n",
       "                                                                                                                                                          abstract  \\\n",
       "0  Adrenoleukodystrophy ( ALD ) is a genetically determined disorder associated with progressive central demyelination and adrenal cortical insufficiency . All...   \n",
       "1  Research question: How does metformin affect cancer through pituitary adenoma mechanisms? Methods: randomized controlled study with 53 elderly patients, ass...   \n",
       "2  Purpose: This randomized controlled study examined statins for diabetes in adult population. The investigation included analysis of bun, cholelithiasis, and...   \n",
       "3  Partial lesions were made with kainic acid in the interpeduncular nucleus of the ventral midbrain of the rat. Compared with sham-operated controls, lesions ...   \n",
       "4  Hypothesis: statins improves stroke outcomes via migraine pathways. Methods: cross-sectional trial with 285 adult population, measuring astrocytoma and pals...   \n",
       "\n",
       "                      group  \n",
       "0  neurological|hepatorenal  \n",
       "1              neurological  \n",
       "2               hepatorenal  \n",
       "3              neurological  \n",
       "4              neurological  "
      ]
     },
     "execution_count": 2,
     "metadata": {},
     "output_type": "execute_result"
    }
   ],
   "source": [
    "# Cargar CSV con delimitador ';'\n",
    "df = pd.read_csv(DATA_PATH, sep=';')\n",
    "assert set(['title','abstract','group']).issubset(df.columns), 'Columnas esperadas no presentes' #comprueba (con una “afirmación”) que en df sí existan las 3 columnas que necesitamos: title, abstract, group.\n",
    "\n",
    "df.head(5)"
   ]
  },
  {
   "cell_type": "code",
   "execution_count": 3,
   "id": "5be5b5cf",
   "metadata": {},
   "outputs": [
    {
     "data": {
      "text/plain": [
       "{'num_rows': 3565,\n",
       " 'num_cols': 3,\n",
       " 'columns': ['title', 'abstract', 'group'],\n",
       " 'missing_values': {'title': 0, 'abstract': 0, 'group': 0},\n",
       " 'duplicated_title': 2,\n",
       " 'duplicated_abstract': 0}"
      ]
     },
     "execution_count": 3,
     "metadata": {},
     "output_type": "execute_result"
    }
   ],
   "source": [
    "n_rows, n_cols = df.shape\n",
    "info = {\n",
    "    \"num_rows\": n_rows,\n",
    "    \"num_cols\": n_cols,\n",
    "    \"columns\": df.columns.tolist(),\n",
    "    \"missing_values\": df.isnull().sum().to_dict(),\n",
    "    \"duplicated_title\": int(df['title'].duplicated().sum()),\n",
    "    \"duplicated_abstract\": int(df['abstract'].duplicated().sum()),\n",
    "}\n",
    "info"
   ]
  },
  {
   "cell_type": "code",
   "execution_count": null,
   "id": "9f82cbe7",
   "metadata": {},
   "outputs": [],
   "source": [
    "# Hay 3,565 registros, cada registro tiene 3 columnas: title, abstract, group,\n",
    "# pero hay 2 filas que aparecen como repetición de un título ya visto.\n",
    "# NOTA: Puede ser:\n",
    "\n",
    "#el mismo artículo repetido (mismo título y mismo abstract), o\n",
    "\n",
    "#mismo título pero abstract diferente (dos estudios con igual título), o\n",
    "\n",
    "#mismo título con grupos distintos."
   ]
  },
  {
   "cell_type": "code",
   "execution_count": 17,
   "id": "f4c8a178",
   "metadata": {},
   "outputs": [
    {
     "data": {
      "text/html": [
       "<div>\n",
       "<style scoped>\n",
       "    .dataframe tbody tr th:only-of-type {\n",
       "        vertical-align: middle;\n",
       "    }\n",
       "\n",
       "    .dataframe tbody tr th {\n",
       "        vertical-align: top;\n",
       "    }\n",
       "\n",
       "    .dataframe thead th {\n",
       "        text-align: right;\n",
       "    }\n",
       "</style>\n",
       "<table border=\"1\" class=\"dataframe\">\n",
       "  <thead>\n",
       "    <tr style=\"text-align: right;\">\n",
       "      <th></th>\n",
       "      <th>title</th>\n",
       "      <th>abstract</th>\n",
       "      <th>group</th>\n",
       "    </tr>\n",
       "  </thead>\n",
       "  <tbody>\n",
       "    <tr>\n",
       "      <th>2246</th>\n",
       "      <td>Long term hormone therapy for perimenopausal and postmenopausal women.</td>\n",
       "      <td>BACKGROUND: Hormone therapy (HT) is widely used for controlling menopausal symptoms. It has also been used for the management and prevention of cardiovascul...</td>\n",
       "      <td>neurological|cardiovascular|oncological</td>\n",
       "    </tr>\n",
       "    <tr>\n",
       "      <th>2261</th>\n",
       "      <td>Long term hormone therapy for perimenopausal and postmenopausal women.</td>\n",
       "      <td>BACKGROUND: Hormone therapy (HT) is widely used for controlling menopausal symptoms and has also been used for the management and prevention of cardiovascul...</td>\n",
       "      <td>neurological|cardiovascular|oncological</td>\n",
       "    </tr>\n",
       "    <tr>\n",
       "      <th>1433</th>\n",
       "      <td>State-of-the-art thiazide diuretics for prostate cancer</td>\n",
       "      <td>Research question: How does beta-blockers affect cancer through cholestasis mechanisms? Methods: prospective study with 369 cardiac patients, assessing rena...</td>\n",
       "      <td>hepatorenal</td>\n",
       "    </tr>\n",
       "    <tr>\n",
       "      <th>3096</th>\n",
       "      <td>State-of-the-art thiazide diuretics for prostate cancer</td>\n",
       "      <td>Background: cancer affects diabetic patients worldwide, particularly involving arrhythmia and stenosis. Methods: We conducted a randomized controlled study ...</td>\n",
       "      <td>cardiovascular</td>\n",
       "    </tr>\n",
       "  </tbody>\n",
       "</table>\n",
       "</div>"
      ],
      "text/plain": [
       "                                                                       title  \\\n",
       "2246  Long term hormone therapy for perimenopausal and postmenopausal women.   \n",
       "2261  Long term hormone therapy for perimenopausal and postmenopausal women.   \n",
       "1433                 State-of-the-art thiazide diuretics for prostate cancer   \n",
       "3096                 State-of-the-art thiazide diuretics for prostate cancer   \n",
       "\n",
       "                                                                                                                                                             abstract  \\\n",
       "2246  BACKGROUND: Hormone therapy (HT) is widely used for controlling menopausal symptoms. It has also been used for the management and prevention of cardiovascul...   \n",
       "2261  BACKGROUND: Hormone therapy (HT) is widely used for controlling menopausal symptoms and has also been used for the management and prevention of cardiovascul...   \n",
       "1433  Research question: How does beta-blockers affect cancer through cholestasis mechanisms? Methods: prospective study with 369 cardiac patients, assessing rena...   \n",
       "3096  Background: cancer affects diabetic patients worldwide, particularly involving arrhythmia and stenosis. Methods: We conducted a randomized controlled study ...   \n",
       "\n",
       "                                        group  \n",
       "2246  neurological|cardiovascular|oncological  \n",
       "2261  neurological|cardiovascular|oncological  \n",
       "1433                              hepatorenal  \n",
       "3096                           cardiovascular  "
      ]
     },
     "execution_count": 17,
     "metadata": {},
     "output_type": "execute_result"
    }
   ],
   "source": [
    "# Todas las filas cuyo título está duplicado (muestra ambas apariciones)\n",
    "dups = df[df['title'].duplicated(keep=False)].sort_values('title')\n",
    "dups[['title','abstract','group']]\n"
   ]
  },
  {
   "cell_type": "code",
   "execution_count": null,
   "id": "74c615b7",
   "metadata": {},
   "outputs": [],
   "source": [
    "#. Aquí hay dos opciones, eliminar la fila duplicada o eliminar la fila duplicada y además fusionar los abstract\n",
    "# con el mismo título, optaremos por la segunda para un dataset más prolijo"
   ]
  },
  {
   "cell_type": "code",
   "execution_count": 21,
   "id": "2f4641d6",
   "metadata": {},
   "outputs": [
    {
     "name": "stdout",
     "output_type": "stream",
     "text": [
      "3565 -> 3563 filas tras limpieza\n"
     ]
    }
   ],
   "source": [
    "# quita exactos\n",
    "df_no_exact = df.drop_duplicates(subset=['title','abstract','group']).reset_index(drop=True)\n",
    "\n",
    "# fusiona por título\n",
    "tmp = df_no_exact.copy()\n",
    "tmp['abs_len'] = tmp['abstract'].astype(str).str.split().str.len()\n",
    "\n",
    "def merge_groups(series):\n",
    "    joined = '|'.join(series)\n",
    "    labs = sorted(set([x.strip() for x in joined.split('|') if x.strip()!='']))\n",
    "    return '|'.join(labs)\n",
    "\n",
    "df_merged = (tmp.sort_values(['title','abs_len'], ascending=[True, False])\n",
    "               .groupby('title', as_index=False)\n",
    "               .agg({'abstract':'first', 'group': merge_groups}))\n",
    "\n",
    "# 3) reconstruye 'text' \n",
    "df_clean = df_merged.copy()\n",
    "df_clean['text'] = (df_clean['title'].fillna('') + ' ' + df_clean['abstract'].fillna('')).str.strip()\n",
    "print(len(df), '->', len(df_clean), 'filas tras limpieza')\n",
    "# Con este script:\n",
    "# el par “Long term hormone therapy…” se reduce a 1 (porque era exacto).\n",
    "# el par “State-of-the-art thiazide…” queda en 1 con el abstract más largo y etiquetas unidas."
   ]
  },
  {
   "cell_type": "code",
   "execution_count": null,
   "id": "910b08d5",
   "metadata": {},
   "outputs": [
    {
     "name": "stdout",
     "output_type": "stream",
     "text": [
      "3563\n"
     ]
    }
   ],
   "source": [
    "# Usar SIEMPRE el dataset limpio a partir de aquí\n",
    "df = df_clean.copy()\n",
    "print(len(df))  # verificar que es 3563\n"
   ]
  },
  {
   "cell_type": "code",
   "execution_count": 23,
   "id": "8b9bd17e",
   "metadata": {},
   "outputs": [
    {
     "data": {
      "text/plain": [
       "{'avg_words': 108.72242492281785,\n",
       " 'std_words': 96.51415235781613,\n",
       " 'p50_words': 43,\n",
       " 'p90_words': 261,\n",
       " 'p95_words': 287,\n",
       " 'max_words': 535}"
      ]
     },
     "execution_count": 23,
     "metadata": {},
     "output_type": "execute_result"
    }
   ],
   "source": [
    "# Construir campo 'text' y longitudes (en tokens simples por espacios)\n",
    "df['text'] = (df['title'].fillna('') + ' ' + df['abstract'].fillna('')).str.strip()\n",
    "lengths = df['text'].astype(str).apply(lambda s: len(s.split()))\n",
    "\n",
    "length_stats = {\n",
    "    \"avg_words\": float(lengths.mean()),\n",
    "    \"std_words\": float(lengths.std()),\n",
    "    \"p50_words\": int(lengths.quantile(0.50)),\n",
    "    \"p90_words\": int(lengths.quantile(0.90)),\n",
    "    \"p95_words\": int(lengths.quantile(0.95)),\n",
    "    \"max_words\": int(lengths.max()),\n",
    "}\n",
    "length_stats"
   ]
  },
  {
   "cell_type": "code",
   "execution_count": null,
   "id": "0fd05e2b",
   "metadata": {},
   "outputs": [],
   "source": [
    "# avg_words = 108.7 → en promedio cada registro tiene ~109 palabras.\n",
    "#p50_words = 43 → la mitad de los textos tiene ≤ 43 palabras.\n",
    "#p90 = 261 y p95 = 287 → el 90–95% de los textos tiene ≤ ~260–287 palabras.\n",
    "#max_words = 535 → el más largo tiene 535 palabras (pocos casos).\n",
    "# podría funcionar con modelos como BERT. "
   ]
  },
  {
   "cell_type": "code",
   "execution_count": 25,
   "id": "81462653",
   "metadata": {},
   "outputs": [
    {
     "data": {
      "image/png": "[encoded data removed]",
      "text/plain": [
       "<Figure size 800x500 with 1 Axes>"
      ]
     },
     "metadata": {},
     "output_type": "display_data"
    },
    {
     "name": "stdout",
     "output_type": "stream",
     "text": [
      "Guardado: ../reports/figures/length_histogram.png\n"
     ]
    }
   ],
   "source": [
    "FIG_DIR = \"../reports/figures\"\n",
    "os.makedirs(FIG_DIR, exist_ok=True)\n",
    "\n",
    "plt.figure(figsize=(8,5))\n",
    "plt.hist(lengths, bins=40)\n",
    "plt.title(\"Distribución de longitud de texto (palabras)\")\n",
    "plt.xlabel(\"Palabras por registro\")\n",
    "plt.ylabel(\"Frecuencia\")\n",
    "plt.tight_layout()\n",
    "plt.savefig(f\"{FIG_DIR}/length_histogram.png\", dpi=150)\n",
    "plt.show()\n",
    "\n",
    "print(\"Guardado:\", f\"{FIG_DIR}/length_histogram.png\")\n"
   ]
  },
  {
   "cell_type": "code",
   "execution_count": 26,
   "id": "59b3f65a",
   "metadata": {},
   "outputs": [
    {
     "name": "stdout",
     "output_type": "stream",
     "text": [
      "Bins: ['0–50', '51–150', '151–300', '>300']\n"
     ]
    },
    {
     "data": {
      "text/html": [
       "<div>\n",
       "<style scoped>\n",
       "    .dataframe tbody tr th:only-of-type {\n",
       "        vertical-align: middle;\n",
       "    }\n",
       "\n",
       "    .dataframe tbody tr th {\n",
       "        vertical-align: top;\n",
       "    }\n",
       "\n",
       "    .dataframe thead th {\n",
       "        text-align: right;\n",
       "    }\n",
       "</style>\n",
       "<table border=\"1\" class=\"dataframe\">\n",
       "  <thead>\n",
       "    <tr style=\"text-align: right;\">\n",
       "      <th></th>\n",
       "      <th>len_words</th>\n",
       "      <th>len_bin</th>\n",
       "    </tr>\n",
       "  </thead>\n",
       "  <tbody>\n",
       "    <tr>\n",
       "      <th>0</th>\n",
       "      <td>313</td>\n",
       "      <td>&gt;300</td>\n",
       "    </tr>\n",
       "    <tr>\n",
       "      <th>1</th>\n",
       "      <td>387</td>\n",
       "      <td>&gt;300</td>\n",
       "    </tr>\n",
       "    <tr>\n",
       "      <th>2</th>\n",
       "      <td>206</td>\n",
       "      <td>151–300</td>\n",
       "    </tr>\n",
       "    <tr>\n",
       "      <th>3</th>\n",
       "      <td>246</td>\n",
       "      <td>151–300</td>\n",
       "    </tr>\n",
       "    <tr>\n",
       "      <th>4</th>\n",
       "      <td>235</td>\n",
       "      <td>151–300</td>\n",
       "    </tr>\n",
       "  </tbody>\n",
       "</table>\n",
       "</div>"
      ],
      "text/plain": [
       "   len_words  len_bin\n",
       "0        313     >300\n",
       "1        387     >300\n",
       "2        206  151–300\n",
       "3        246  151–300\n",
       "4        235  151–300"
      ]
     },
     "execution_count": 26,
     "metadata": {},
     "output_type": "execute_result"
    }
   ],
   "source": [
    "lengths = df['text'].astype(str).apply(lambda s: len(s.split()))\n",
    "\n",
    "bins = [0, 50, 150, 300, np.inf]\n",
    "bin_labels = [\"0–50\", \"51–150\", \"151–300\", \">300\"]\n",
    "\n",
    "df_len = df.copy()\n",
    "df_len[\"len_words\"] = lengths.values\n",
    "df_len[\"len_bin\"] = pd.cut(df_len[\"len_words\"], bins=bins, labels=bin_labels, right=True, include_lowest=True)\n",
    "\n",
    "df_len[\"labels_list\"] = df_len[\"group\"].astype(str).apply(lambda s: [t.strip() for t in s.split(\"|\")])\n",
    "classes = sorted({l for L in df_len[\"labels_list\"] for l in L})\n",
    "\n",
    "print(\"Bins:\", bin_labels)\n",
    "df_len[[\"len_words\",\"len_bin\"]].head()"
   ]
  },
  {
   "cell_type": "code",
   "execution_count": null,
   "id": "72e0a043",
   "metadata": {},
   "outputs": [],
   "source": [
    "# La mayoría de los textos son cortos: 0–50 palabras = 2011/3563 (~56%).\n",
    "\n",
    "# Los muy largos son pocos: >300 palabras = 129 (~3.6%)."
   ]
  },
  {
   "cell_type": "code",
   "execution_count": 27,
   "id": "5fdeddbf",
   "metadata": {},
   "outputs": [
    {
     "name": "stderr",
     "output_type": "stream",
     "text": [
      "C:\\Users\\sider\\AppData\\Local\\Temp\\ipykernel_30596\\1230128677.py:7: FutureWarning: The default of observed=False is deprecated and will be changed to True in a future version of pandas. Pass observed=False to retain current behavior or observed=True to adopt the future default and silence this warning.\n",
      "  df_len.groupby(\"len_bin\")\n"
     ]
    },
    {
     "data": {
      "text/html": [
       "<div>\n",
       "<style scoped>\n",
       "    .dataframe tbody tr th:only-of-type {\n",
       "        vertical-align: middle;\n",
       "    }\n",
       "\n",
       "    .dataframe tbody tr th {\n",
       "        vertical-align: top;\n",
       "    }\n",
       "\n",
       "    .dataframe thead th {\n",
       "        text-align: right;\n",
       "    }\n",
       "</style>\n",
       "<table border=\"1\" class=\"dataframe\">\n",
       "  <thead>\n",
       "    <tr style=\"text-align: right;\">\n",
       "      <th></th>\n",
       "      <th>len_bin</th>\n",
       "      <th>n_rows</th>\n",
       "      <th>avg_len</th>\n",
       "      <th>p95_len</th>\n",
       "      <th>avg_labels_per_sample</th>\n",
       "      <th>multilabel_ratio_%</th>\n",
       "    </tr>\n",
       "  </thead>\n",
       "  <tbody>\n",
       "    <tr>\n",
       "      <th>0</th>\n",
       "      <td>0–50</td>\n",
       "      <td>2011</td>\n",
       "      <td>38.044754</td>\n",
       "      <td>44.0</td>\n",
       "      <td>1.291895</td>\n",
       "      <td>29.2</td>\n",
       "    </tr>\n",
       "    <tr>\n",
       "      <th>1</th>\n",
       "      <td>51–150</td>\n",
       "      <td>441</td>\n",
       "      <td>104.013605</td>\n",
       "      <td>146.0</td>\n",
       "      <td>1.285714</td>\n",
       "      <td>24.7</td>\n",
       "    </tr>\n",
       "    <tr>\n",
       "      <th>2</th>\n",
       "      <td>151–300</td>\n",
       "      <td>982</td>\n",
       "      <td>223.254582</td>\n",
       "      <td>287.0</td>\n",
       "      <td>1.408350</td>\n",
       "      <td>34.8</td>\n",
       "    </tr>\n",
       "    <tr>\n",
       "      <th>3</th>\n",
       "      <td>&gt;300</td>\n",
       "      <td>129</td>\n",
       "      <td>354.759690</td>\n",
       "      <td>474.0</td>\n",
       "      <td>1.503876</td>\n",
       "      <td>41.9</td>\n",
       "    </tr>\n",
       "  </tbody>\n",
       "</table>\n",
       "</div>"
      ],
      "text/plain": [
       "   len_bin  n_rows     avg_len  p95_len  avg_labels_per_sample  \\\n",
       "0     0–50    2011   38.044754     44.0               1.291895   \n",
       "1   51–150     441  104.013605    146.0               1.285714   \n",
       "2  151–300     982  223.254582    287.0               1.408350   \n",
       "3     >300     129  354.759690    474.0               1.503876   \n",
       "\n",
       "   multilabel_ratio_%  \n",
       "0                29.2  \n",
       "1                24.7  \n",
       "2                34.8  \n",
       "3                41.9  "
      ]
     },
     "execution_count": 27,
     "metadata": {},
     "output_type": "execute_result"
    }
   ],
   "source": [
    "from collections import Counter\n",
    "\n",
    "def is_multilabel(L): \n",
    "    return len(L) > 1\n",
    "\n",
    "summary_by_bin = (\n",
    "    df_len.groupby(\"len_bin\")\n",
    "          .agg(\n",
    "              n_rows = (\"len_words\",\"size\"),\n",
    "              avg_len = (\"len_words\",\"mean\"),\n",
    "              p95_len = (\"len_words\", lambda x: np.quantile(x, 0.95)),\n",
    "              multilabel_ratio = (\"labels_list\", lambda s: np.mean([is_multilabel(L) for L in s])),\n",
    "              avg_labels_per_sample = (\"labels_list\", lambda s: np.mean([len(L) for L in s]))\n",
    "          )\n",
    "          .reset_index()\n",
    ")\n",
    "\n",
    "summary_by_bin[\"multilabel_ratio_%\"] = (summary_by_bin[\"multilabel_ratio\"]*100).round(1)\n",
    "summary_by_bin.drop(columns=[\"multilabel_ratio\"], inplace=True)\n",
    "summary_by_bin\n"
   ]
  },
  {
   "cell_type": "code",
   "execution_count": 28,
   "id": "935e9145",
   "metadata": {},
   "outputs": [
    {
     "name": "stderr",
     "output_type": "stream",
     "text": [
      "C:\\Users\\sider\\AppData\\Local\\Temp\\ipykernel_30596\\3782701554.py:3: FutureWarning: The default of observed=False is deprecated and will be changed to True in a future version of pandas. Pass observed=False to retain current behavior or observed=True to adopt the future default and silence this warning.\n",
      "  for b, g in df_len.groupby(\"len_bin\"):\n"
     ]
    },
    {
     "data": {
      "text/html": [
       "<div>\n",
       "<style scoped>\n",
       "    .dataframe tbody tr th:only-of-type {\n",
       "        vertical-align: middle;\n",
       "    }\n",
       "\n",
       "    .dataframe tbody tr th {\n",
       "        vertical-align: top;\n",
       "    }\n",
       "\n",
       "    .dataframe thead th {\n",
       "        text-align: right;\n",
       "    }\n",
       "</style>\n",
       "<table border=\"1\" class=\"dataframe\">\n",
       "  <thead>\n",
       "    <tr style=\"text-align: right;\">\n",
       "      <th></th>\n",
       "      <th>cardiovascular</th>\n",
       "      <th>hepatorenal</th>\n",
       "      <th>neurological</th>\n",
       "      <th>oncological</th>\n",
       "    </tr>\n",
       "    <tr>\n",
       "      <th>len_bin</th>\n",
       "      <th></th>\n",
       "      <th></th>\n",
       "      <th></th>\n",
       "      <th></th>\n",
       "    </tr>\n",
       "  </thead>\n",
       "  <tbody>\n",
       "    <tr>\n",
       "      <th>0–50</th>\n",
       "      <td>0.421</td>\n",
       "      <td>0.323</td>\n",
       "      <td>0.402</td>\n",
       "      <td>0.146</td>\n",
       "    </tr>\n",
       "    <tr>\n",
       "      <th>51–150</th>\n",
       "      <td>0.306</td>\n",
       "      <td>0.288</td>\n",
       "      <td>0.546</td>\n",
       "      <td>0.145</td>\n",
       "    </tr>\n",
       "    <tr>\n",
       "      <th>151–300</th>\n",
       "      <td>0.254</td>\n",
       "      <td>0.288</td>\n",
       "      <td>0.646</td>\n",
       "      <td>0.221</td>\n",
       "    </tr>\n",
       "    <tr>\n",
       "      <th>&gt;300</th>\n",
       "      <td>0.287</td>\n",
       "      <td>0.248</td>\n",
       "      <td>0.775</td>\n",
       "      <td>0.194</td>\n",
       "    </tr>\n",
       "  </tbody>\n",
       "</table>\n",
       "</div>"
      ],
      "text/plain": [
       "         cardiovascular  hepatorenal  neurological  oncological\n",
       "len_bin                                                        \n",
       "0–50              0.421        0.323         0.402        0.146\n",
       "51–150            0.306        0.288         0.546        0.145\n",
       "151–300           0.254        0.288         0.646        0.221\n",
       ">300              0.287        0.248         0.775        0.194"
      ]
     },
     "execution_count": 28,
     "metadata": {},
     "output_type": "execute_result"
    }
   ],
   "source": [
    "# matriz bin x clase con proporción de presencia de la clase en ese bin\n",
    "rows = []\n",
    "for b, g in df_len.groupby(\"len_bin\"):\n",
    "    total = len(g)\n",
    "    counts = Counter([lab for L in g[\"labels_list\"] for lab in L])\n",
    "    row = {\"len_bin\": b}\n",
    "    for c in classes:\n",
    "        row[c] = counts.get(c, 0) / total if total > 0 else 0.0\n",
    "    rows.append(row)\n",
    "\n",
    "prev_by_bin = pd.DataFrame(rows).set_index(\"len_bin\").loc[bin_labels]\n",
    "prev_by_bin.round(3)\n"
   ]
  },
  {
   "cell_type": "code",
   "execution_count": 29,
   "id": "47239826",
   "metadata": {},
   "outputs": [
    {
     "data": {
      "image/png": "[encoded data removed]",
      "text/plain": [
       "<Figure size 600x400 with 1 Axes>"
      ]
     },
     "metadata": {},
     "output_type": "display_data"
    }
   ],
   "source": [
    "\n",
    "# Conteos por bin\n",
    "plt.figure(figsize=(6,4))\n",
    "plt.bar(summary_by_bin[\"len_bin\"].astype(str), summary_by_bin[\"n_rows\"])\n",
    "plt.title(\"Conteo de muestras por bin de longitud\")\n",
    "plt.xlabel(\"Bin de longitud (palabras)\")\n",
    "plt.ylabel(\"Muestras\")\n",
    "plt.tight_layout()\n",
    "plt.show()\n"
   ]
  },
  {
   "cell_type": "code",
   "execution_count": 30,
   "id": "9c7803b1",
   "metadata": {},
   "outputs": [
    {
     "data": {
      "image/png": "[encoded data removed]",
      "text/plain": [
       "<Figure size 600x400 with 1 Axes>"
      ]
     },
     "metadata": {},
     "output_type": "display_data"
    }
   ],
   "source": [
    "# % Multilabel por bin\n",
    "plt.figure(figsize=(6,4))\n",
    "plt.bar(summary_by_bin[\"len_bin\"].astype(str), summary_by_bin[\"multilabel_ratio_%\"])\n",
    "plt.title(\"% de registros multilabel por bin de longitud\")\n",
    "plt.xlabel(\"Bin de longitud (palabras)\")\n",
    "plt.ylabel(\"% multilabel\")\n",
    "plt.tight_layout()\n",
    "plt.show()\n"
   ]
  },
  {
   "cell_type": "code",
   "execution_count": null,
   "id": "4199ae73",
   "metadata": {},
   "outputs": [],
   "source": [
    "# Los textos largos tienden a tener más de una etiqueta; conviene usar umbrales por clase (no uno global)."
   ]
  },
  {
   "cell_type": "code",
   "execution_count": 31,
   "id": "638a032b",
   "metadata": {},
   "outputs": [
    {
     "data": {
      "image/png": "[encoded data removed]",
      "text/plain": [
       "<Figure size 600x400 with 1 Axes>"
      ]
     },
     "metadata": {},
     "output_type": "display_data"
    },
    {
     "data": {
      "image/png": "[encoded data removed]",
      "text/plain": [
       "<Figure size 600x400 with 1 Axes>"
      ]
     },
     "metadata": {},
     "output_type": "display_data"
    },
    {
     "data": {
      "image/png": "[encoded data removed]",
      "text/plain": [
       "<Figure size 600x400 with 1 Axes>"
      ]
     },
     "metadata": {},
     "output_type": "display_data"
    },
    {
     "data": {
      "image/png": "[encoded data removed]",
      "text/plain": [
       "<Figure size 600x400 with 1 Axes>"
      ]
     },
     "metadata": {},
     "output_type": "display_data"
    }
   ],
   "source": [
    "# Prevalencia por clase y bin (un gráfico por clase para que sea legible)\n",
    "for c in classes:\n",
    "    plt.figure(figsize=(6,4))\n",
    "    plt.bar(prev_by_bin.index.astype(str), prev_by_bin[c].values)\n",
    "    plt.title(f\"Prevalencia de '{c}' por bin de longitud\")\n",
    "    plt.xlabel(\"Bin de longitud (palabras)\")\n",
    "    plt.ylabel(\"Proporción\")\n",
    "    plt.tight_layout()\n",
    "    plt.show()\n"
   ]
  },
  {
   "cell_type": "code",
   "execution_count": null,
   "id": "8d37f97e",
   "metadata": {},
   "outputs": [],
   "source": [
    "# Hay correlación longitud↔clase (posible sesgo si los folds no lo reflejan)"
   ]
  },
  {
   "cell_type": "code",
   "execution_count": null,
   "id": "6dbefaf0",
   "metadata": {},
   "outputs": [
    {
     "data": {
      "text/plain": [
       "{'classes': ['cardiovascular', 'hepatorenal', 'neurological', 'oncological'],\n",
       " 'label_counts': {'neurological': 1785,\n",
       "  'hepatorenal': 1091,\n",
       "  'cardiovascular': 1268,\n",
       "  'oncological': 601},\n",
       " 'num_unique_labels': 4,\n",
       " 'avg_labels_per_sample': 1.331,\n",
       " 'multi_label_ratio': 0.306}"
      ]
     },
     "execution_count": 6,
     "metadata": {},
     "output_type": "execute_result"
    }
   ],
   "source": [
    "\n",
    "labels_series = df['group'].astype(str).apply(lambda x: [t.strip() for t in x.split('|')])\n",
    "all_labels = [l for sub in labels_series for l in sub]\n",
    "label_counts = Counter(all_labels)\n",
    "classes = sorted(label_counts.keys())\n",
    "\n",
    "# Estadísticas multilabel\n",
    "avg_labels_per_sample = sum(len(x) for x in labels_series) / len(labels_series)\n",
    "multi_label_ratio = sum(1 for x in labels_series if len(x) > 1) / len(labels_series)\n",
    "\n",
    "summary_labels = {\n",
    "    \"classes\": classes,\n",
    "    \"label_counts\": dict(label_counts),\n",
    "    \"num_unique_labels\": len(classes),\n",
    "    \"avg_labels_per_sample\": round(avg_labels_per_sample, 3),\n",
    "    \"multi_label_ratio\": round(multi_label_ratio, 3)\n",
    "}\n",
    "summary_labels"
   ]
  },
  {
   "cell_type": "code",
   "execution_count": 7,
   "id": "7949c80e",
   "metadata": {},
   "outputs": [
    {
     "data": {
      "image/png": "[encoded data removed]",
      "text/plain": [
       "<Figure size 700x500 with 1 Axes>"
      ]
     },
     "metadata": {},
     "output_type": "display_data"
    }
   ],
   "source": [
    "# Barra de frecuencia de etiquetas\n",
    "labels, counts = zip(*sorted(label_counts.items(), key=lambda x: x[0]))\n",
    "plt.figure(figsize=(7,5))\n",
    "plt.bar(labels, counts)\n",
    "plt.title(\"Frecuencia por etiqueta\")\n",
    "plt.xlabel(\"Etiqueta\")\n",
    "plt.ylabel(\"Conteo\")\n",
    "for i, v in enumerate(counts):\n",
    "    plt.text(i, v + max(counts)*0.01, str(v), ha='center', va='bottom', fontsize=9, rotation=0)\n",
    "plt.tight_layout()\n",
    "plt.savefig(f\"{FIG_DIR}/label_distribution.png\", dpi=150)\n",
    "plt.show()"
   ]
  },
  {
   "cell_type": "code",
   "execution_count": 8,
   "id": "24c8ece0",
   "metadata": {},
   "outputs": [
    {
     "data": {
      "text/html": [
       "<div>\n",
       "<style scoped>\n",
       "    .dataframe tbody tr th:only-of-type {\n",
       "        vertical-align: middle;\n",
       "    }\n",
       "\n",
       "    .dataframe tbody tr th {\n",
       "        vertical-align: top;\n",
       "    }\n",
       "\n",
       "    .dataframe thead th {\n",
       "        text-align: right;\n",
       "    }\n",
       "</style>\n",
       "<table border=\"1\" class=\"dataframe\">\n",
       "  <thead>\n",
       "    <tr style=\"text-align: right;\">\n",
       "      <th></th>\n",
       "      <th>cardiovascular</th>\n",
       "      <th>hepatorenal</th>\n",
       "      <th>neurological</th>\n",
       "      <th>oncological</th>\n",
       "    </tr>\n",
       "  </thead>\n",
       "  <tbody>\n",
       "    <tr>\n",
       "      <th>cardiovascular</th>\n",
       "      <td>1268</td>\n",
       "      <td>232</td>\n",
       "      <td>356</td>\n",
       "      <td>97</td>\n",
       "    </tr>\n",
       "    <tr>\n",
       "      <th>hepatorenal</th>\n",
       "      <td>232</td>\n",
       "      <td>1091</td>\n",
       "      <td>263</td>\n",
       "      <td>138</td>\n",
       "    </tr>\n",
       "    <tr>\n",
       "      <th>neurological</th>\n",
       "      <td>356</td>\n",
       "      <td>263</td>\n",
       "      <td>1785</td>\n",
       "      <td>189</td>\n",
       "    </tr>\n",
       "    <tr>\n",
       "      <th>oncological</th>\n",
       "      <td>97</td>\n",
       "      <td>138</td>\n",
       "      <td>189</td>\n",
       "      <td>601</td>\n",
       "    </tr>\n",
       "  </tbody>\n",
       "</table>\n",
       "</div>"
      ],
      "text/plain": [
       "                cardiovascular  hepatorenal  neurological  oncological\n",
       "cardiovascular            1268          232           356           97\n",
       "hepatorenal                232         1091           263          138\n",
       "neurological               356          263          1785          189\n",
       "oncological                 97          138           189          601"
      ]
     },
     "execution_count": 8,
     "metadata": {},
     "output_type": "execute_result"
    }
   ],
   "source": [
    "# Matriz de co-ocurrencia (conteos)\n",
    "cls_idx = {c:i for i,c in enumerate(classes)}\n",
    "cooc = np.zeros((len(classes), len(classes)), dtype=int)\n",
    "\n",
    "for labs in labels_series:\n",
    "    idxs = [cls_idx[l] for l in labs if l in cls_idx]\n",
    "    for i in idxs:\n",
    "        for j in idxs:\n",
    "            if i <= j:\n",
    "                cooc[i,j] += 1\n",
    "                if i != j:\n",
    "                    cooc[j,i] += 1\n",
    "\n",
    "cooc_df = pd.DataFrame(cooc, index=classes, columns=classes)\n",
    "cooc_df"
   ]
  },
  {
   "cell_type": "code",
   "execution_count": 32,
   "id": "5fdfa6d5",
   "metadata": {},
   "outputs": [
    {
     "name": "stdout",
     "output_type": "stream",
     "text": [
      "Matriz normalizada (proporciones por fila):\n"
     ]
    },
    {
     "data": {
      "text/html": [
       "<div>\n",
       "<style scoped>\n",
       "    .dataframe tbody tr th:only-of-type {\n",
       "        vertical-align: middle;\n",
       "    }\n",
       "\n",
       "    .dataframe tbody tr th {\n",
       "        vertical-align: top;\n",
       "    }\n",
       "\n",
       "    .dataframe thead th {\n",
       "        text-align: right;\n",
       "    }\n",
       "</style>\n",
       "<table border=\"1\" class=\"dataframe\">\n",
       "  <thead>\n",
       "    <tr style=\"text-align: right;\">\n",
       "      <th></th>\n",
       "      <th>cardiovascular</th>\n",
       "      <th>hepatorenal</th>\n",
       "      <th>neurological</th>\n",
       "      <th>oncological</th>\n",
       "    </tr>\n",
       "  </thead>\n",
       "  <tbody>\n",
       "    <tr>\n",
       "      <th>cardiovascular</th>\n",
       "      <td>0.649</td>\n",
       "      <td>0.119</td>\n",
       "      <td>0.182</td>\n",
       "      <td>0.050</td>\n",
       "    </tr>\n",
       "    <tr>\n",
       "      <th>hepatorenal</th>\n",
       "      <td>0.135</td>\n",
       "      <td>0.633</td>\n",
       "      <td>0.153</td>\n",
       "      <td>0.080</td>\n",
       "    </tr>\n",
       "    <tr>\n",
       "      <th>neurological</th>\n",
       "      <td>0.137</td>\n",
       "      <td>0.101</td>\n",
       "      <td>0.688</td>\n",
       "      <td>0.073</td>\n",
       "    </tr>\n",
       "    <tr>\n",
       "      <th>oncological</th>\n",
       "      <td>0.095</td>\n",
       "      <td>0.135</td>\n",
       "      <td>0.184</td>\n",
       "      <td>0.586</td>\n",
       "    </tr>\n",
       "  </tbody>\n",
       "</table>\n",
       "</div>"
      ],
      "text/plain": [
       "                cardiovascular  hepatorenal  neurological  oncological\n",
       "cardiovascular           0.649        0.119         0.182        0.050\n",
       "hepatorenal              0.135        0.633         0.153        0.080\n",
       "neurological             0.137        0.101         0.688        0.073\n",
       "oncological              0.095        0.135         0.184        0.586"
      ]
     },
     "metadata": {},
     "output_type": "display_data"
    },
    {
     "data": {
      "image/png": "[encoded data removed]",
      "text/plain": [
       "<Figure size 600x500 with 2 Axes>"
      ]
     },
     "metadata": {},
     "output_type": "display_data"
    }
   ],
   "source": [
    "# Normalización por fila (proporción de co-ocurrencia respecto al total de esa clase)\n",
    "cooc_norm = cooc_df.div(cooc_df.sum(axis=1), axis=0).round(3)\n",
    "\n",
    "print(\"Matriz normalizada (proporciones por fila):\")\n",
    "display(cooc_norm)\n",
    "\n",
    "# Heatmap de proporciones\n",
    "import seaborn as sns\n",
    "plt.figure(figsize=(6,5))\n",
    "sns.heatmap(cooc_norm, annot=True, cmap=\"Blues\", cbar=True)\n",
    "plt.title(\"Co-ocurrencias normalizadas (por fila)\")\n",
    "plt.tight_layout()\n",
    "plt.savefig(f\"{FIG_DIR}/label_cooccurrence_normalized.png\", dpi=150)\n",
    "plt.show()\n"
   ]
  },
  {
   "cell_type": "code",
   "execution_count": null,
   "id": "fe4d5294",
   "metadata": {},
   "outputs": [],
   "source": [
    "# El dataset no es multiclase puro: ~30–40% de los ejemplos tienen 2 etiquetas. \n",
    "# Esto refuerza que el modelo debe manejar multilabel real\n",
    "#  y que las dependencias entre etiquetas son útiles (ej. usar modelos que capturen correlaciones entre salidas)."
   ]
  },
  {
   "cell_type": "code",
   "execution_count": 9,
   "id": "84f4533c",
   "metadata": {},
   "outputs": [
    {
     "data": {
      "image/png": "[encoded data removed]",
      "text/plain": [
       "<Figure size 600x500 with 2 Axes>"
      ]
     },
     "metadata": {},
     "output_type": "display_data"
    }
   ],
   "source": [
    "# Mapa de co-ocurrencia\n",
    "plt.figure(figsize=(6,5))\n",
    "plt.imshow(cooc, aspect='auto')\n",
    "plt.colorbar()\n",
    "plt.xticks(range(len(classes)), classes, rotation=45, ha='right')\n",
    "plt.yticks(range(len(classes)), classes)\n",
    "plt.title(\"Matriz de co-ocurrencias (conteos)\")\n",
    "plt.tight_layout()\n",
    "plt.savefig(f\"{FIG_DIR}/label_cooccurrence.png\", dpi=150)\n",
    "plt.show()"
   ]
  },
  {
   "cell_type": "code",
   "execution_count": 34,
   "id": "8ebc16c0",
   "metadata": {},
   "outputs": [
    {
     "name": "stdout",
     "output_type": "stream",
     "text": [
      "\n",
      "Top términos para clase 'cardiovascular':\n"
     ]
    },
    {
     "data": {
      "text/html": [
       "<div>\n",
       "<style scoped>\n",
       "    .dataframe tbody tr th:only-of-type {\n",
       "        vertical-align: middle;\n",
       "    }\n",
       "\n",
       "    .dataframe tbody tr th {\n",
       "        vertical-align: top;\n",
       "    }\n",
       "\n",
       "    .dataframe thead th {\n",
       "        text-align: right;\n",
       "    }\n",
       "</style>\n",
       "<table border=\"1\" class=\"dataframe\">\n",
       "  <thead>\n",
       "    <tr style=\"text-align: right;\">\n",
       "      <th></th>\n",
       "      <th>term</th>\n",
       "      <th>score</th>\n",
       "    </tr>\n",
       "  </thead>\n",
       "  <tbody>\n",
       "    <tr>\n",
       "      <th>0</th>\n",
       "      <td>patients</td>\n",
       "      <td>0.042</td>\n",
       "    </tr>\n",
       "    <tr>\n",
       "      <th>1</th>\n",
       "      <td>cardiac</td>\n",
       "      <td>0.036</td>\n",
       "    </tr>\n",
       "    <tr>\n",
       "      <th>2</th>\n",
       "      <td>heart</td>\n",
       "      <td>0.036</td>\n",
       "    </tr>\n",
       "    <tr>\n",
       "      <th>3</th>\n",
       "      <td>results</td>\n",
       "      <td>0.033</td>\n",
       "    </tr>\n",
       "    <tr>\n",
       "      <th>4</th>\n",
       "      <td>methods</td>\n",
       "      <td>0.032</td>\n",
       "    </tr>\n",
       "    <tr>\n",
       "      <th>5</th>\n",
       "      <td>conclusion</td>\n",
       "      <td>0.031</td>\n",
       "    </tr>\n",
       "    <tr>\n",
       "      <th>6</th>\n",
       "      <td>disease</td>\n",
       "      <td>0.031</td>\n",
       "    </tr>\n",
       "    <tr>\n",
       "      <th>7</th>\n",
       "      <td>vascular insights</td>\n",
       "      <td>0.030</td>\n",
       "    </tr>\n",
       "    <tr>\n",
       "      <th>8</th>\n",
       "      <td>vascular</td>\n",
       "      <td>0.030</td>\n",
       "    </tr>\n",
       "    <tr>\n",
       "      <th>9</th>\n",
       "      <td>cancer</td>\n",
       "      <td>0.029</td>\n",
       "    </tr>\n",
       "  </tbody>\n",
       "</table>\n",
       "</div>"
      ],
      "text/plain": [
       "                term  score\n",
       "0           patients  0.042\n",
       "1            cardiac  0.036\n",
       "2              heart  0.036\n",
       "3            results  0.033\n",
       "4            methods  0.032\n",
       "5         conclusion  0.031\n",
       "6            disease  0.031\n",
       "7  vascular insights  0.030\n",
       "8           vascular  0.030\n",
       "9             cancer  0.029"
      ]
     },
     "metadata": {},
     "output_type": "display_data"
    },
    {
     "name": "stdout",
     "output_type": "stream",
     "text": [
      "\n",
      "Top términos para clase 'hepatorenal':\n"
     ]
    },
    {
     "data": {
      "text/html": [
       "<div>\n",
       "<style scoped>\n",
       "    .dataframe tbody tr th:only-of-type {\n",
       "        vertical-align: middle;\n",
       "    }\n",
       "\n",
       "    .dataframe tbody tr th {\n",
       "        vertical-align: top;\n",
       "    }\n",
       "\n",
       "    .dataframe thead th {\n",
       "        text-align: right;\n",
       "    }\n",
       "</style>\n",
       "<table border=\"1\" class=\"dataframe\">\n",
       "  <thead>\n",
       "    <tr style=\"text-align: right;\">\n",
       "      <th></th>\n",
       "      <th>term</th>\n",
       "      <th>score</th>\n",
       "    </tr>\n",
       "  </thead>\n",
       "  <tbody>\n",
       "    <tr>\n",
       "      <th>0</th>\n",
       "      <td>patients</td>\n",
       "      <td>0.040</td>\n",
       "    </tr>\n",
       "    <tr>\n",
       "      <th>1</th>\n",
       "      <td>renal</td>\n",
       "      <td>0.035</td>\n",
       "    </tr>\n",
       "    <tr>\n",
       "      <th>2</th>\n",
       "      <td>methods</td>\n",
       "      <td>0.030</td>\n",
       "    </tr>\n",
       "    <tr>\n",
       "      <th>3</th>\n",
       "      <td>results</td>\n",
       "      <td>0.030</td>\n",
       "    </tr>\n",
       "    <tr>\n",
       "      <th>4</th>\n",
       "      <td>conclusion</td>\n",
       "      <td>0.028</td>\n",
       "    </tr>\n",
       "    <tr>\n",
       "      <th>5</th>\n",
       "      <td>cancer</td>\n",
       "      <td>0.027</td>\n",
       "    </tr>\n",
       "    <tr>\n",
       "      <th>6</th>\n",
       "      <td>disease</td>\n",
       "      <td>0.026</td>\n",
       "    </tr>\n",
       "    <tr>\n",
       "      <th>7</th>\n",
       "      <td>liver</td>\n",
       "      <td>0.026</td>\n",
       "    </tr>\n",
       "    <tr>\n",
       "      <th>8</th>\n",
       "      <td>organ</td>\n",
       "      <td>0.026</td>\n",
       "    </tr>\n",
       "    <tr>\n",
       "      <th>9</th>\n",
       "      <td>study</td>\n",
       "      <td>0.024</td>\n",
       "    </tr>\n",
       "  </tbody>\n",
       "</table>\n",
       "</div>"
      ],
      "text/plain": [
       "         term  score\n",
       "0    patients  0.040\n",
       "1       renal  0.035\n",
       "2     methods  0.030\n",
       "3     results  0.030\n",
       "4  conclusion  0.028\n",
       "5      cancer  0.027\n",
       "6     disease  0.026\n",
       "7       liver  0.026\n",
       "8       organ  0.026\n",
       "9       study  0.024"
      ]
     },
     "metadata": {},
     "output_type": "display_data"
    },
    {
     "name": "stdout",
     "output_type": "stream",
     "text": [
      "\n",
      "Top términos para clase 'neurological':\n"
     ]
    },
    {
     "data": {
      "text/html": [
       "<div>\n",
       "<style scoped>\n",
       "    .dataframe tbody tr th:only-of-type {\n",
       "        vertical-align: middle;\n",
       "    }\n",
       "\n",
       "    .dataframe tbody tr th {\n",
       "        vertical-align: top;\n",
       "    }\n",
       "\n",
       "    .dataframe thead th {\n",
       "        text-align: right;\n",
       "    }\n",
       "</style>\n",
       "<table border=\"1\" class=\"dataframe\">\n",
       "  <thead>\n",
       "    <tr style=\"text-align: right;\">\n",
       "      <th></th>\n",
       "      <th>term</th>\n",
       "      <th>score</th>\n",
       "    </tr>\n",
       "  </thead>\n",
       "  <tbody>\n",
       "    <tr>\n",
       "      <th>0</th>\n",
       "      <td>patients</td>\n",
       "      <td>0.037</td>\n",
       "    </tr>\n",
       "    <tr>\n",
       "      <th>1</th>\n",
       "      <td>results</td>\n",
       "      <td>0.024</td>\n",
       "    </tr>\n",
       "    <tr>\n",
       "      <th>2</th>\n",
       "      <td>disease</td>\n",
       "      <td>0.024</td>\n",
       "    </tr>\n",
       "    <tr>\n",
       "      <th>3</th>\n",
       "      <td>methods</td>\n",
       "      <td>0.023</td>\n",
       "    </tr>\n",
       "    <tr>\n",
       "      <th>4</th>\n",
       "      <td>cancer</td>\n",
       "      <td>0.023</td>\n",
       "    </tr>\n",
       "    <tr>\n",
       "      <th>5</th>\n",
       "      <td>study</td>\n",
       "      <td>0.022</td>\n",
       "    </tr>\n",
       "    <tr>\n",
       "      <th>6</th>\n",
       "      <td>conclusion</td>\n",
       "      <td>0.021</td>\n",
       "    </tr>\n",
       "    <tr>\n",
       "      <th>7</th>\n",
       "      <td>brain</td>\n",
       "      <td>0.020</td>\n",
       "    </tr>\n",
       "    <tr>\n",
       "      <th>8</th>\n",
       "      <td>pathways</td>\n",
       "      <td>0.018</td>\n",
       "    </tr>\n",
       "    <tr>\n",
       "      <th>9</th>\n",
       "      <td>induced</td>\n",
       "      <td>0.017</td>\n",
       "    </tr>\n",
       "  </tbody>\n",
       "</table>\n",
       "</div>"
      ],
      "text/plain": [
       "         term  score\n",
       "0    patients  0.037\n",
       "1     results  0.024\n",
       "2     disease  0.024\n",
       "3     methods  0.023\n",
       "4      cancer  0.023\n",
       "5       study  0.022\n",
       "6  conclusion  0.021\n",
       "7       brain  0.020\n",
       "8    pathways  0.018\n",
       "9     induced  0.017"
      ]
     },
     "metadata": {},
     "output_type": "display_data"
    },
    {
     "name": "stdout",
     "output_type": "stream",
     "text": [
      "\n",
      "Top términos para clase 'oncological':\n"
     ]
    },
    {
     "data": {
      "text/html": [
       "<div>\n",
       "<style scoped>\n",
       "    .dataframe tbody tr th:only-of-type {\n",
       "        vertical-align: middle;\n",
       "    }\n",
       "\n",
       "    .dataframe tbody tr th {\n",
       "        vertical-align: top;\n",
       "    }\n",
       "\n",
       "    .dataframe thead th {\n",
       "        text-align: right;\n",
       "    }\n",
       "</style>\n",
       "<table border=\"1\" class=\"dataframe\">\n",
       "  <thead>\n",
       "    <tr style=\"text-align: right;\">\n",
       "      <th></th>\n",
       "      <th>term</th>\n",
       "      <th>score</th>\n",
       "    </tr>\n",
       "  </thead>\n",
       "  <tbody>\n",
       "    <tr>\n",
       "      <th>0</th>\n",
       "      <td>cancer</td>\n",
       "      <td>0.084</td>\n",
       "    </tr>\n",
       "    <tr>\n",
       "      <th>1</th>\n",
       "      <td>patients</td>\n",
       "      <td>0.040</td>\n",
       "    </tr>\n",
       "    <tr>\n",
       "      <th>2</th>\n",
       "      <td>brca1</td>\n",
       "      <td>0.033</td>\n",
       "    </tr>\n",
       "    <tr>\n",
       "      <th>3</th>\n",
       "      <td>mutations</td>\n",
       "      <td>0.029</td>\n",
       "    </tr>\n",
       "    <tr>\n",
       "      <th>4</th>\n",
       "      <td>breast</td>\n",
       "      <td>0.028</td>\n",
       "    </tr>\n",
       "    <tr>\n",
       "      <th>5</th>\n",
       "      <td>tumor</td>\n",
       "      <td>0.026</td>\n",
       "    </tr>\n",
       "    <tr>\n",
       "      <th>6</th>\n",
       "      <td>results</td>\n",
       "      <td>0.025</td>\n",
       "    </tr>\n",
       "    <tr>\n",
       "      <th>7</th>\n",
       "      <td>methods</td>\n",
       "      <td>0.025</td>\n",
       "    </tr>\n",
       "    <tr>\n",
       "      <th>8</th>\n",
       "      <td>conclusion</td>\n",
       "      <td>0.022</td>\n",
       "    </tr>\n",
       "    <tr>\n",
       "      <th>9</th>\n",
       "      <td>ovarian</td>\n",
       "      <td>0.022</td>\n",
       "    </tr>\n",
       "  </tbody>\n",
       "</table>\n",
       "</div>"
      ],
      "text/plain": [
       "         term  score\n",
       "0      cancer  0.084\n",
       "1    patients  0.040\n",
       "2       brca1  0.033\n",
       "3   mutations  0.029\n",
       "4      breast  0.028\n",
       "5       tumor  0.026\n",
       "6     results  0.025\n",
       "7     methods  0.025\n",
       "8  conclusion  0.022\n",
       "9     ovarian  0.022"
      ]
     },
     "metadata": {},
     "output_type": "display_data"
    }
   ],
   "source": [
    "from sklearn.feature_extraction.text import TfidfVectorizer\n",
    "\n",
    "# Usamos el campo 'text' ya limpio\n",
    "texts = df['text']\n",
    "labels_series = df['group'].astype(str).apply(lambda x: [t.strip() for t in x.split('|')])\n",
    "\n",
    "# Vectorizador TF-IDF (unigramas y bigramas)\n",
    "tfidf = TfidfVectorizer(\n",
    "    max_features=5000,\n",
    "    ngram_range=(1,2),\n",
    "    stop_words='english'\n",
    ")\n",
    "X_tfidf = tfidf.fit_transform(texts)\n",
    "feature_names = np.array(tfidf.get_feature_names_out())\n",
    "\n",
    "# Función: top términos por clase\n",
    "def top_terms_for_class(class_name, top_n=10):\n",
    "    # índices de textos que contienen esa clase\n",
    "    idx = [i for i, labs in enumerate(labels_series) if class_name in labs]\n",
    "    if not idx:\n",
    "        return pd.DataFrame(columns=[\"term\",\"score\"])\n",
    "    \n",
    "    # submatriz\n",
    "    X_sub = X_tfidf[idx].mean(axis=0).A1\n",
    "    top_idx = np.argsort(X_sub)[::-1][:top_n]\n",
    "    return pd.DataFrame({\n",
    "        \"term\": feature_names[top_idx],\n",
    "        \"score\": X_sub[top_idx].round(3)\n",
    "    })\n",
    "\n",
    "# Ejemplo: top 10 palabras por cada clase\n",
    "for c in classes:\n",
    "    print(f\"\\nTop términos para clase '{c}':\")\n",
    "    display(top_terms_for_class(c, top_n=10))\n"
   ]
  }
 ],
 "metadata": {
  "kernelspec": {
   "display_name": "Python 3",
   "language": "python",
   "name": "python3"
  },
  "language_info": {
   "codemirror_mode": {
    "name": "ipython",
    "version": 3
   },
   "file_extension": ".py",
   "mimetype": "text/x-python",
   "name": "python",
   "nbconvert_exporter": "python",
   "pygments_lexer": "ipython3",
   "version": "3.13.2"
  }
 },
 "nbformat": 4,
 "nbformat_minor": 5
}
